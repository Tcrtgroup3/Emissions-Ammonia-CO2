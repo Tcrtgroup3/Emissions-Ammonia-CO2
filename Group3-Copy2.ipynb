{
 "cells": [
  {
   "cell_type": "markdown",
   "id": "252236aa",
   "metadata": {},
   "source": [
    "# Create a data portal with 10years forecast on Nigeria Ammonia and CO2 emissions estimations.\n",
    "•\tData cleansing and validation (Python or Tableau)\n",
    "•\tAnalysis and Forecasting  (Python or Tableau)\n"
   ]
  },
  {
   "cell_type": "markdown",
   "id": "5ee43798",
   "metadata": {},
   "source": [
    "# Outline¶\n",
    "\n",
    "    Import Datasets\n",
    "    Data Cleaning and Data Preparation\n",
    "    Exploratory Data Analysis\n",
    "    Feature Engineering\n",
    "    Train Test Split\n",
    "    Model Building\n",
    "    Model Evaluation\n"
   ]
  },
  {
   "cell_type": "code",
   "execution_count": 2,
   "id": "99056732",
   "metadata": {},
   "outputs": [],
   "source": [
    "# Import Libraries for Analysis\n",
    "import numpy as np\n",
    "import pandas as pd\n",
    "\n",
    "# Import Libraries for visualization\n",
    "import matplotlib.pyplot as plt\n",
    "import seaborn as sns\n",
    "\n",
    "# Import libraries for train test split\n",
    "from sklearn.model_selection import train_test_split\n",
    "\n",
    "# import Ilbrary for Scaling\n",
    "from sklearn.preprocessing import StandardScaler\n",
    "\n",
    "# import Ilbrary for Model Building\n",
    "from sklearn.linear_model import LinearRegression\n",
    "\n",
    "# Supress Warnings\n",
    "import warnings\n",
    "warnings.filterwarnings('ignore')"
   ]
  },
  {
   "cell_type": "markdown",
   "id": "91f9670d",
   "metadata": {},
   "source": [
    "# Importing the data set"
   ]
  },
  {
   "cell_type": "code",
   "execution_count": 3,
   "id": "53aba062",
   "metadata": {},
   "outputs": [],
   "source": [
    "import os"
   ]
  },
  {
   "cell_type": "code",
   "execution_count": 4,
   "id": "d609f3fb",
   "metadata": {},
   "outputs": [
    {
     "data": {
      "text/plain": [
       "'C:\\\\Users\\\\USER'"
      ]
     },
     "execution_count": 4,
     "metadata": {},
     "output_type": "execute_result"
    }
   ],
   "source": [
    "pwd"
   ]
  },
  {
   "cell_type": "code",
   "execution_count": 6,
   "id": "18587c2b",
   "metadata": {},
   "outputs": [],
   "source": [
    "# Import the data set\n",
    "df = pd.read_csv(\"C:\\\\Users\\\\USER\\\\Maindataset.csv\")"
   ]
  },
  {
   "cell_type": "code",
   "execution_count": 7,
   "id": "106b6c5d",
   "metadata": {},
   "outputs": [
    {
     "data": {
      "text/html": [
       "<div>\n",
       "<style scoped>\n",
       "    .dataframe tbody tr th:only-of-type {\n",
       "        vertical-align: middle;\n",
       "    }\n",
       "\n",
       "    .dataframe tbody tr th {\n",
       "        vertical-align: top;\n",
       "    }\n",
       "\n",
       "    .dataframe thead th {\n",
       "        text-align: right;\n",
       "    }\n",
       "</style>\n",
       "<table border=\"1\" class=\"dataframe\">\n",
       "  <thead>\n",
       "    <tr style=\"text-align: right;\">\n",
       "      <th></th>\n",
       "      <th>Category</th>\n",
       "      <th>Buildings</th>\n",
       "      <th>Noncombustion</th>\n",
       "      <th>Otherindustrialcombustion</th>\n",
       "      <th>PowerIndustry</th>\n",
       "      <th>Transport</th>\n",
       "      <th>TotalCO2percap</th>\n",
       "    </tr>\n",
       "  </thead>\n",
       "  <tbody>\n",
       "    <tr>\n",
       "      <th>0</th>\n",
       "      <td>2010</td>\n",
       "      <td>6838174</td>\n",
       "      <td>34745256</td>\n",
       "      <td>11418698</td>\n",
       "      <td>9967401</td>\n",
       "      <td>27549530</td>\n",
       "      <td>0.57</td>\n",
       "    </tr>\n",
       "    <tr>\n",
       "      <th>1</th>\n",
       "      <td>2011</td>\n",
       "      <td>6914112</td>\n",
       "      <td>34442161</td>\n",
       "      <td>18398502</td>\n",
       "      <td>10676049</td>\n",
       "      <td>24746903</td>\n",
       "      <td>0.58</td>\n",
       "    </tr>\n",
       "    <tr>\n",
       "      <th>2</th>\n",
       "      <td>2012</td>\n",
       "      <td>8114295</td>\n",
       "      <td>27318548</td>\n",
       "      <td>18089633</td>\n",
       "      <td>11633126</td>\n",
       "      <td>25451663</td>\n",
       "      <td>0.54</td>\n",
       "    </tr>\n",
       "    <tr>\n",
       "      <th>3</th>\n",
       "      <td>2013</td>\n",
       "      <td>8630828</td>\n",
       "      <td>27963839</td>\n",
       "      <td>17340022</td>\n",
       "      <td>11890567</td>\n",
       "      <td>23952755</td>\n",
       "      <td>0.52</td>\n",
       "    </tr>\n",
       "    <tr>\n",
       "      <th>4</th>\n",
       "      <td>2014</td>\n",
       "      <td>8039586</td>\n",
       "      <td>25604513</td>\n",
       "      <td>18124172</td>\n",
       "      <td>12641126</td>\n",
       "      <td>21292626</td>\n",
       "      <td>0.49</td>\n",
       "    </tr>\n",
       "  </tbody>\n",
       "</table>\n",
       "</div>"
      ],
      "text/plain": [
       "   Category  Buildings  Noncombustion  Otherindustrialcombustion  \\\n",
       "0      2010    6838174       34745256                   11418698   \n",
       "1      2011    6914112       34442161                   18398502   \n",
       "2      2012    8114295       27318548                   18089633   \n",
       "3      2013    8630828       27963839                   17340022   \n",
       "4      2014    8039586       25604513                   18124172   \n",
       "\n",
       "   PowerIndustry  Transport  TotalCO2percap  \n",
       "0        9967401   27549530            0.57  \n",
       "1       10676049   24746903            0.58  \n",
       "2       11633126   25451663            0.54  \n",
       "3       11890567   23952755            0.52  \n",
       "4       12641126   21292626            0.49  "
      ]
     },
     "execution_count": 7,
     "metadata": {},
     "output_type": "execute_result"
    }
   ],
   "source": [
    "# Print top 5 rows of dataset\n",
    "df.head()"
   ]
  },
  {
   "cell_type": "markdown",
   "id": "ef635683",
   "metadata": {},
   "source": [
    "# Data Cleaning and Preparation"
   ]
  },
  {
   "cell_type": "code",
   "execution_count": 8,
   "id": "55fad420",
   "metadata": {},
   "outputs": [
    {
     "name": "stdout",
     "output_type": "stream",
     "text": [
      "<class 'pandas.core.frame.DataFrame'>\n",
      "RangeIndex: 10 entries, 0 to 9\n",
      "Data columns (total 7 columns):\n",
      " #   Column                     Non-Null Count  Dtype  \n",
      "---  ------                     --------------  -----  \n",
      " 0   Category                   10 non-null     int64  \n",
      " 1   Buildings                  10 non-null     int64  \n",
      " 2   Noncombustion              10 non-null     int64  \n",
      " 3   Otherindustrialcombustion  10 non-null     int64  \n",
      " 4   PowerIndustry              10 non-null     int64  \n",
      " 5   Transport                  10 non-null     int64  \n",
      " 6   TotalCO2percap             10 non-null     float64\n",
      "dtypes: float64(1), int64(6)\n",
      "memory usage: 688.0 bytes\n"
     ]
    }
   ],
   "source": [
    "# Check the info of data set\n",
    "df.info()"
   ]
  },
  {
   "cell_type": "code",
   "execution_count": 9,
   "id": "93e40ee1",
   "metadata": {},
   "outputs": [
    {
     "data": {
      "text/plain": [
       "Index(['Category', 'Buildings', 'Noncombustion', 'Otherindustrialcombustion',\n",
       "       'PowerIndustry', 'Transport', 'TotalCO2percap'],\n",
       "      dtype='object')"
      ]
     },
     "execution_count": 9,
     "metadata": {},
     "output_type": "execute_result"
    }
   ],
   "source": [
    "# Check column names\n",
    "df.columns"
   ]
  },
  {
   "cell_type": "code",
   "execution_count": 10,
   "id": "052da9d5",
   "metadata": {},
   "outputs": [
    {
     "data": {
      "text/plain": [
       "Category                     0\n",
       "Buildings                    0\n",
       "Noncombustion                0\n",
       "Otherindustrialcombustion    0\n",
       "PowerIndustry                0\n",
       "Transport                    0\n",
       "TotalCO2percap               0\n",
       "dtype: int64"
      ]
     },
     "execution_count": 10,
     "metadata": {},
     "output_type": "execute_result"
    }
   ],
   "source": [
    "# Check Null Values in data set\n",
    "df.isnull().sum()"
   ]
  },
  {
   "cell_type": "code",
   "execution_count": 11,
   "id": "3841b5a0",
   "metadata": {},
   "outputs": [
    {
     "data": {
      "text/plain": [
       "2016    1\n",
       "2017    1\n",
       "2018    1\n",
       "2019    1\n",
       "2010    1\n",
       "2011    1\n",
       "2012    1\n",
       "2013    1\n",
       "2014    1\n",
       "2015    1\n",
       "Name: Category, dtype: int64"
      ]
     },
     "execution_count": 11,
     "metadata": {},
     "output_type": "execute_result"
    }
   ],
   "source": [
    "# Value_counts for Category\n",
    "df.Category.value_counts()"
   ]
  },
  {
   "cell_type": "code",
   "execution_count": 12,
   "id": "036f2a66",
   "metadata": {},
   "outputs": [
    {
     "data": {
      "text/plain": [
       "6914112    1\n",
       "8039586    1\n",
       "8134190    1\n",
       "9058874    1\n",
       "8114295    1\n",
       "8604138    1\n",
       "8525771    1\n",
       "8630828    1\n",
       "9421303    1\n",
       "6838174    1\n",
       "Name: Buildings, dtype: int64"
      ]
     },
     "execution_count": 12,
     "metadata": {},
     "output_type": "execute_result"
    }
   ],
   "source": [
    "# Value_counts for Buildings\n",
    "df.Buildings.value_counts()"
   ]
  },
  {
   "cell_type": "code",
   "execution_count": 14,
   "id": "e02264e1",
   "metadata": {},
   "outputs": [
    {
     "data": {
      "text/plain": [
       "25604513    1\n",
       "34442161    1\n",
       "24987839    1\n",
       "27380904    1\n",
       "27318548    1\n",
       "25147111    1\n",
       "34745256    1\n",
       "27205754    1\n",
       "27427052    1\n",
       "27963839    1\n",
       "Name: Noncombustion, dtype: int64"
      ]
     },
     "execution_count": 14,
     "metadata": {},
     "output_type": "execute_result"
    }
   ],
   "source": [
    "# Value_counts for Non-combustion\n",
    "df[\"Noncombustion\"].value_counts()"
   ]
  },
  {
   "cell_type": "code",
   "execution_count": 15,
   "id": "e473b8a9",
   "metadata": {},
   "outputs": [
    {
     "data": {
      "text/plain": [
       "18089633    1\n",
       "19057571    1\n",
       "18613636    1\n",
       "18398502    1\n",
       "17340022    1\n",
       "20688986    1\n",
       "11418698    1\n",
       "20164166    1\n",
       "18124172    1\n",
       "18770470    1\n",
       "Name: Otherindustrialcombustion, dtype: int64"
      ]
     },
     "execution_count": 15,
     "metadata": {},
     "output_type": "execute_result"
    }
   ],
   "source": [
    "# Value_counts for Other industrial combustion\n",
    "df[\"Otherindustrialcombustion\"].value_counts()"
   ]
  },
  {
   "cell_type": "code",
   "execution_count": 16,
   "id": "bf083377",
   "metadata": {},
   "outputs": [
    {
     "data": {
      "text/plain": [
       "10676049    1\n",
       "14236833    1\n",
       "13888636    1\n",
       "11633126    1\n",
       "11890567    1\n",
       "12976264    1\n",
       "9967401     1\n",
       "12784689    1\n",
       "12641126    1\n",
       "13113885    1\n",
       "Name: PowerIndustry, dtype: int64"
      ]
     },
     "execution_count": 16,
     "metadata": {},
     "output_type": "execute_result"
    }
   ],
   "source": [
    "# Value_counts for Power Industry\n",
    "df[\"PowerIndustry\"].value_counts()"
   ]
  },
  {
   "cell_type": "code",
   "execution_count": 17,
   "id": "1610ec1a",
   "metadata": {},
   "outputs": [
    {
     "data": {
      "text/plain": [
       "28449057    1\n",
       "21292626    1\n",
       "23952755    1\n",
       "24562458    1\n",
       "24746903    1\n",
       "25981624    1\n",
       "27549530    1\n",
       "27354731    1\n",
       "25744946    1\n",
       "25451663    1\n",
       "Name: Transport, dtype: int64"
      ]
     },
     "execution_count": 17,
     "metadata": {},
     "output_type": "execute_result"
    }
   ],
   "source": [
    "# Value_counts for Transport\n",
    "df.Transport.value_counts()"
   ]
  },
  {
   "cell_type": "code",
   "execution_count": 19,
   "id": "d41df121",
   "metadata": {},
   "outputs": [
    {
     "data": {
      "text/plain": [
       "0.49    4\n",
       "0.50    2\n",
       "0.54    1\n",
       "0.58    1\n",
       "0.57    1\n",
       "0.52    1\n",
       "Name: TotalCO2percap, dtype: int64"
      ]
     },
     "execution_count": 19,
     "metadata": {},
     "output_type": "execute_result"
    }
   ],
   "source": [
    "# Value_counts for Total CO2percap\n",
    "df[\"TotalCO2percap\"].value_counts()"
   ]
  },
  {
   "cell_type": "markdown",
   "id": "36b66823",
   "metadata": {},
   "source": [
    "### VISUALIZATIONS"
   ]
  },
  {
   "cell_type": "code",
   "execution_count": 20,
   "id": "c0670805",
   "metadata": {},
   "outputs": [
    {
     "data": {
      "text/html": [
       "<div>\n",
       "<style scoped>\n",
       "    .dataframe tbody tr th:only-of-type {\n",
       "        vertical-align: middle;\n",
       "    }\n",
       "\n",
       "    .dataframe tbody tr th {\n",
       "        vertical-align: top;\n",
       "    }\n",
       "\n",
       "    .dataframe thead th {\n",
       "        text-align: right;\n",
       "    }\n",
       "</style>\n",
       "<table border=\"1\" class=\"dataframe\">\n",
       "  <thead>\n",
       "    <tr style=\"text-align: right;\">\n",
       "      <th></th>\n",
       "      <th>Category</th>\n",
       "      <th>Buildings</th>\n",
       "      <th>Noncombustion</th>\n",
       "      <th>Otherindustrialcombustion</th>\n",
       "      <th>PowerIndustry</th>\n",
       "      <th>Transport</th>\n",
       "      <th>TotalCO2percap</th>\n",
       "    </tr>\n",
       "  </thead>\n",
       "  <tbody>\n",
       "    <tr>\n",
       "      <th>count</th>\n",
       "      <td>10.00000</td>\n",
       "      <td>1.000000e+01</td>\n",
       "      <td>1.000000e+01</td>\n",
       "      <td>1.000000e+01</td>\n",
       "      <td>1.000000e+01</td>\n",
       "      <td>1.000000e+01</td>\n",
       "      <td>10.000000</td>\n",
       "    </tr>\n",
       "    <tr>\n",
       "      <th>mean</th>\n",
       "      <td>2014.50000</td>\n",
       "      <td>8.228127e+06</td>\n",
       "      <td>2.822230e+07</td>\n",
       "      <td>1.806659e+07</td>\n",
       "      <td>1.238086e+07</td>\n",
       "      <td>2.550863e+07</td>\n",
       "      <td>0.517000</td>\n",
       "    </tr>\n",
       "    <tr>\n",
       "      <th>std</th>\n",
       "      <td>3.02765</td>\n",
       "      <td>8.314571e+05</td>\n",
       "      <td>3.516063e+06</td>\n",
       "      <td>2.536181e+06</td>\n",
       "      <td>1.348717e+06</td>\n",
       "      <td>2.059482e+06</td>\n",
       "      <td>0.034657</td>\n",
       "    </tr>\n",
       "    <tr>\n",
       "      <th>min</th>\n",
       "      <td>2010.00000</td>\n",
       "      <td>6.838174e+06</td>\n",
       "      <td>2.498784e+07</td>\n",
       "      <td>1.141870e+07</td>\n",
       "      <td>9.967401e+06</td>\n",
       "      <td>2.129263e+07</td>\n",
       "      <td>0.490000</td>\n",
       "    </tr>\n",
       "    <tr>\n",
       "      <th>25%</th>\n",
       "      <td>2012.25000</td>\n",
       "      <td>8.058263e+06</td>\n",
       "      <td>2.600482e+07</td>\n",
       "      <td>1.809827e+07</td>\n",
       "      <td>1.169749e+07</td>\n",
       "      <td>2.460857e+07</td>\n",
       "      <td>0.490000</td>\n",
       "    </tr>\n",
       "    <tr>\n",
       "      <th>50%</th>\n",
       "      <td>2014.50000</td>\n",
       "      <td>8.329980e+06</td>\n",
       "      <td>2.734973e+07</td>\n",
       "      <td>1.850607e+07</td>\n",
       "      <td>1.271291e+07</td>\n",
       "      <td>2.559830e+07</td>\n",
       "      <td>0.500000</td>\n",
       "    </tr>\n",
       "    <tr>\n",
       "      <th>75%</th>\n",
       "      <td>2016.75000</td>\n",
       "      <td>8.624156e+06</td>\n",
       "      <td>2.782964e+07</td>\n",
       "      <td>1.898580e+07</td>\n",
       "      <td>1.307948e+07</td>\n",
       "      <td>2.701145e+07</td>\n",
       "      <td>0.535000</td>\n",
       "    </tr>\n",
       "    <tr>\n",
       "      <th>max</th>\n",
       "      <td>2019.00000</td>\n",
       "      <td>9.421303e+06</td>\n",
       "      <td>3.474526e+07</td>\n",
       "      <td>2.068899e+07</td>\n",
       "      <td>1.423683e+07</td>\n",
       "      <td>2.844906e+07</td>\n",
       "      <td>0.580000</td>\n",
       "    </tr>\n",
       "  </tbody>\n",
       "</table>\n",
       "</div>"
      ],
      "text/plain": [
       "         Category     Buildings  Noncombustion  Otherindustrialcombustion  \\\n",
       "count    10.00000  1.000000e+01   1.000000e+01               1.000000e+01   \n",
       "mean   2014.50000  8.228127e+06   2.822230e+07               1.806659e+07   \n",
       "std       3.02765  8.314571e+05   3.516063e+06               2.536181e+06   \n",
       "min    2010.00000  6.838174e+06   2.498784e+07               1.141870e+07   \n",
       "25%    2012.25000  8.058263e+06   2.600482e+07               1.809827e+07   \n",
       "50%    2014.50000  8.329980e+06   2.734973e+07               1.850607e+07   \n",
       "75%    2016.75000  8.624156e+06   2.782964e+07               1.898580e+07   \n",
       "max    2019.00000  9.421303e+06   3.474526e+07               2.068899e+07   \n",
       "\n",
       "       PowerIndustry     Transport  TotalCO2percap  \n",
       "count   1.000000e+01  1.000000e+01       10.000000  \n",
       "mean    1.238086e+07  2.550863e+07        0.517000  \n",
       "std     1.348717e+06  2.059482e+06        0.034657  \n",
       "min     9.967401e+06  2.129263e+07        0.490000  \n",
       "25%     1.169749e+07  2.460857e+07        0.490000  \n",
       "50%     1.271291e+07  2.559830e+07        0.500000  \n",
       "75%     1.307948e+07  2.701145e+07        0.535000  \n",
       "max     1.423683e+07  2.844906e+07        0.580000  "
      ]
     },
     "execution_count": 20,
     "metadata": {},
     "output_type": "execute_result"
    }
   ],
   "source": [
    "df.describe()"
   ]
  },
  {
   "cell_type": "code",
   "execution_count": 21,
   "id": "3acd0e1d",
   "metadata": {},
   "outputs": [
    {
     "name": "stdout",
     "output_type": "stream",
     "text": [
      "<class 'pandas.core.frame.DataFrame'>\n",
      "RangeIndex: 10 entries, 0 to 9\n",
      "Data columns (total 7 columns):\n",
      " #   Column                     Non-Null Count  Dtype  \n",
      "---  ------                     --------------  -----  \n",
      " 0   Category                   10 non-null     int64  \n",
      " 1   Buildings                  10 non-null     int64  \n",
      " 2   Noncombustion              10 non-null     int64  \n",
      " 3   Otherindustrialcombustion  10 non-null     int64  \n",
      " 4   PowerIndustry              10 non-null     int64  \n",
      " 5   Transport                  10 non-null     int64  \n",
      " 6   TotalCO2percap             10 non-null     float64\n",
      "dtypes: float64(1), int64(6)\n",
      "memory usage: 688.0 bytes\n"
     ]
    }
   ],
   "source": [
    "df.info()"
   ]
  },
  {
   "cell_type": "markdown",
   "id": "8434bf01-f4d7-4f27-9f4a-b27ef5b8c157",
   "metadata": {},
   "source": [
    "### distribution of CO2 emissions"
   ]
  },
  {
   "cell_type": "code",
   "execution_count": 22,
   "id": "380aa95e-d461-43cc-91d5-92eb734eca50",
   "metadata": {},
   "outputs": [],
   "source": [
    "categories = df.columns[1:-1]"
   ]
  },
  {
   "cell_type": "code",
   "execution_count": 23,
   "id": "7d20ce39-4f52-48da-9405-7df0e8d54cbc",
   "metadata": {},
   "outputs": [],
   "source": [
    "sum_values = df[categories].sum().values"
   ]
  },
  {
   "cell_type": "code",
   "execution_count": 24,
   "id": "5e642a38-cd00-45a0-afe4-642241dc0a83",
   "metadata": {},
   "outputs": [
    {
     "data": {
      "text/plain": [
       "array([ 82281271, 282222977, 180665856, 123808576, 255086293], dtype=int64)"
      ]
     },
     "execution_count": 24,
     "metadata": {},
     "output_type": "execute_result"
    }
   ],
   "source": [
    "sum_values"
   ]
  },
  {
   "cell_type": "code",
   "execution_count": 25,
   "id": "d2ce9dc7-c517-4754-8031-1b840f853391",
   "metadata": {},
   "outputs": [
    {
     "data": {
      "image/png": "[encoded data removed]",
      "text/plain": [
       "<Figure size 432x288 with 1 Axes>"
      ]
     },
     "metadata": {},
     "output_type": "display_data"
    }
   ],
   "source": [
    "plt.pie(sum_values, labels=categories, autopct='%1.1f%%', shadow=True, startangle=90)\n",
    "plt.show()"
   ]
  },
  {
   "cell_type": "markdown",
   "id": "78cb2812-7680-4a7e-9f9c-4389bafc1fe9",
   "metadata": {
    "tags": []
   },
   "source": [
    "### bar chart"
   ]
  },
  {
   "cell_type": "code",
   "execution_count": 26,
   "id": "8d58ad86-a2a6-450e-b4f2-07a00c901d51",
   "metadata": {},
   "outputs": [],
   "source": [
    "years = df[\"Category\"].values"
   ]
  },
  {
   "cell_type": "code",
   "execution_count": 27,
   "id": "a78f4d42-35b5-405e-a084-68339cf3a5fe",
   "metadata": {},
   "outputs": [],
   "source": [
    "n_years = len(years)"
   ]
  },
  {
   "cell_type": "code",
   "execution_count": 28,
   "id": "d2379106-47f8-43fe-88f6-bbcc22f2321e",
   "metadata": {},
   "outputs": [
    {
     "data": {
      "text/plain": [
       "4"
      ]
     },
     "execution_count": 28,
     "metadata": {},
     "output_type": "execute_result"
    }
   ],
   "source": [
    "9%5"
   ]
  },
  {
   "cell_type": "code",
   "execution_count": 29,
   "id": "d0f8a067-bb1c-4947-a4f0-ef3d1e187998",
   "metadata": {},
   "outputs": [
    {
     "data": {
      "text/plain": [
       "Index(['Buildings', 'Noncombustion', 'Otherindustrialcombustion',\n",
       "       'PowerIndustry', 'Transport'],\n",
       "      dtype='object')"
      ]
     },
     "execution_count": 29,
     "metadata": {},
     "output_type": "execute_result"
    }
   ],
   "source": [
    "categories"
   ]
  },
  {
   "cell_type": "code",
   "execution_count": 30,
   "id": "6c405773-cee1-4c77-aec3-f34868397801",
   "metadata": {},
   "outputs": [
    {
     "data": {
      "image/png": "[encoded data removed]",
      "text/plain": [
       "<Figure size 1440x1440 with 10 Axes>"
      ]
     },
     "metadata": {
      "needs_background": "light"
     },
     "output_type": "display_data"
    }
   ],
   "source": [
    "fig, ax = plt.subplots(5,2, figsize=(20,20))\n",
    "\n",
    "for i in range(n_years):\n",
    "    year = years[i]\n",
    "    year_data = df[df[\"Category\"] == year][categories].values[0]\n",
    "    a = (i//2)\n",
    "    b = (i % 2)\n",
    "    ax[a, b].bar(categories, year_data)\n",
    "    ax[a,b].set_xticklabels(categories)\n",
    "    ax[a,b].set_title(year)"
   ]
  },
  {
   "cell_type": "markdown",
   "id": "f132842e-5b95-40ea-ac00-7147236b45ff",
   "metadata": {},
   "source": [
    "### Line Graph"
   ]
  },
  {
   "cell_type": "code",
   "execution_count": 31,
   "id": "16755283-586f-4a25-83bb-531283a20b09",
   "metadata": {},
   "outputs": [],
   "source": [
    "years = df[\"Category\"].values"
   ]
  },
  {
   "cell_type": "code",
   "execution_count": 32,
   "id": "eebd1ef0-f7d6-4fe0-a220-6613102ea071",
   "metadata": {},
   "outputs": [],
   "source": [
    "n_category = len(categories)"
   ]
  },
  {
   "cell_type": "code",
   "execution_count": 33,
   "id": "7e787e19-6d26-4f24-b5c9-5d77d26c8fe0",
   "metadata": {},
   "outputs": [
    {
     "data": {
      "text/plain": [
       "5"
      ]
     },
     "execution_count": 33,
     "metadata": {},
     "output_type": "execute_result"
    }
   ],
   "source": [
    "n_category"
   ]
  },
  {
   "cell_type": "code",
   "execution_count": 34,
   "id": "14ae62a6-a748-4427-96a2-f521682a8c26",
   "metadata": {},
   "outputs": [
    {
     "data": {
      "image/png": "[encoded data removed]",
      "text/plain": [
       "<Figure size 1080x1440 with 5 Axes>"
      ]
     },
     "metadata": {
      "needs_background": "light"
     },
     "output_type": "display_data"
    }
   ],
   "source": [
    "fig, ax = plt.subplots(5, figsize=(15, 20))\n",
    "\n",
    "for i in range(5):\n",
    "    category_type = categories[i]\n",
    "    data = df[category_type].values\n",
    "    ax[i].plot(years, data)\n",
    "    ax[i].set_title(category_type)\n"
   ]
  },
  {
   "cell_type": "code",
   "execution_count": 22,
   "id": "ab2a8bf8",
   "metadata": {},
   "outputs": [
    {
     "data": {
      "image/png": "[encoded data removed]",
      "text/plain": [
       "<Figure size 432x288 with 1 Axes>"
      ]
     },
     "metadata": {
      "needs_background": "light"
     },
     "output_type": "display_data"
    }
   ],
   "source": [
    "sns.countplot(x=\"Category\", data=df);"
   ]
  },
  {
   "cell_type": "code",
   "execution_count": 32,
   "id": "be4eda81",
   "metadata": {},
   "outputs": [
    {
     "data": {
      "text/plain": [
       "6838174"
      ]
     },
     "execution_count": 32,
     "metadata": {},
     "output_type": "execute_result"
    }
   ],
   "source": [
    "df[\"Buildings\"].min()"
   ]
  },
  {
   "cell_type": "code",
   "execution_count": 33,
   "id": "e4fc28c3",
   "metadata": {},
   "outputs": [
    {
     "data": {
      "text/plain": [
       "9421303"
      ]
     },
     "execution_count": 33,
     "metadata": {},
     "output_type": "execute_result"
    }
   ],
   "source": [
    "df[\"Buildings\"].max()"
   ]
  },
  {
   "cell_type": "code",
   "execution_count": 100,
   "id": "ebb77232",
   "metadata": {},
   "outputs": [
    {
     "data": {
      "image/png": "[encoded data removed]",
      "text/plain": [
       "<Figure size 432x288 with 1 Axes>"
      ]
     },
     "metadata": {
      "needs_background": "light"
     },
     "output_type": "display_data"
    }
   ],
   "source": [
    "plt.hist(df.Buildings, bins=20);"
   ]
  },
  {
   "cell_type": "code",
   "execution_count": 101,
   "id": "aace86d7",
   "metadata": {},
   "outputs": [
    {
     "data": {
      "image/png": "[encoded data removed]",
      "text/plain": [
       "<Figure size 432x288 with 1 Axes>"
      ]
     },
     "metadata": {
      "needs_background": "light"
     },
     "output_type": "display_data"
    }
   ],
   "source": [
    "sns.countplot(x=\"Transport\", data=df);"
   ]
  },
  {
   "cell_type": "code",
   "execution_count": 102,
   "id": "608aa49a",
   "metadata": {},
   "outputs": [
    {
     "data": {
      "text/html": [
       "<div>\n",
       "<style scoped>\n",
       "    .dataframe tbody tr th:only-of-type {\n",
       "        vertical-align: middle;\n",
       "    }\n",
       "\n",
       "    .dataframe tbody tr th {\n",
       "        vertical-align: top;\n",
       "    }\n",
       "\n",
       "    .dataframe thead th {\n",
       "        text-align: right;\n",
       "    }\n",
       "</style>\n",
       "<table border=\"1\" class=\"dataframe\">\n",
       "  <thead>\n",
       "    <tr style=\"text-align: right;\">\n",
       "      <th></th>\n",
       "      <th>Category</th>\n",
       "      <th>Buildings</th>\n",
       "      <th>Noncombustion</th>\n",
       "      <th>Otherindustrialcombustion</th>\n",
       "      <th>PowerIndustry</th>\n",
       "      <th>Transport</th>\n",
       "      <th>TotalCO2percap</th>\n",
       "    </tr>\n",
       "  </thead>\n",
       "  <tbody>\n",
       "    <tr>\n",
       "      <th>Category</th>\n",
       "      <td>1.000000</td>\n",
       "      <td>0.893575</td>\n",
       "      <td>-0.653770</td>\n",
       "      <td>0.760397</td>\n",
       "      <td>0.970509</td>\n",
       "      <td>0.335422</td>\n",
       "      <td>-0.810068</td>\n",
       "    </tr>\n",
       "    <tr>\n",
       "      <th>Buildings</th>\n",
       "      <td>0.893575</td>\n",
       "      <td>1.000000</td>\n",
       "      <td>-0.739933</td>\n",
       "      <td>0.729188</td>\n",
       "      <td>0.915554</td>\n",
       "      <td>0.241260</td>\n",
       "      <td>-0.782089</td>\n",
       "    </tr>\n",
       "    <tr>\n",
       "      <th>Noncombustion</th>\n",
       "      <td>-0.653770</td>\n",
       "      <td>-0.739933</td>\n",
       "      <td>1.000000</td>\n",
       "      <td>-0.626664</td>\n",
       "      <td>-0.773638</td>\n",
       "      <td>0.272907</td>\n",
       "      <td>0.921454</td>\n",
       "    </tr>\n",
       "    <tr>\n",
       "      <th>Otherindustrialcombustion</th>\n",
       "      <td>0.760397</td>\n",
       "      <td>0.729188</td>\n",
       "      <td>-0.626664</td>\n",
       "      <td>1.000000</td>\n",
       "      <td>0.819506</td>\n",
       "      <td>-0.030182</td>\n",
       "      <td>-0.600963</td>\n",
       "    </tr>\n",
       "    <tr>\n",
       "      <th>PowerIndustry</th>\n",
       "      <td>0.970509</td>\n",
       "      <td>0.915554</td>\n",
       "      <td>-0.773638</td>\n",
       "      <td>0.819506</td>\n",
       "      <td>1.000000</td>\n",
       "      <td>0.168038</td>\n",
       "      <td>-0.867559</td>\n",
       "    </tr>\n",
       "    <tr>\n",
       "      <th>Transport</th>\n",
       "      <td>0.335422</td>\n",
       "      <td>0.241260</td>\n",
       "      <td>0.272907</td>\n",
       "      <td>-0.030182</td>\n",
       "      <td>0.168038</td>\n",
       "      <td>1.000000</td>\n",
       "      <td>0.144864</td>\n",
       "    </tr>\n",
       "    <tr>\n",
       "      <th>TotalCO2percap</th>\n",
       "      <td>-0.810068</td>\n",
       "      <td>-0.782089</td>\n",
       "      <td>0.921454</td>\n",
       "      <td>-0.600963</td>\n",
       "      <td>-0.867559</td>\n",
       "      <td>0.144864</td>\n",
       "      <td>1.000000</td>\n",
       "    </tr>\n",
       "  </tbody>\n",
       "</table>\n",
       "</div>"
      ],
      "text/plain": [
       "                           Category  Buildings  Noncombustion  \\\n",
       "Category                   1.000000   0.893575      -0.653770   \n",
       "Buildings                  0.893575   1.000000      -0.739933   \n",
       "Noncombustion             -0.653770  -0.739933       1.000000   \n",
       "Otherindustrialcombustion  0.760397   0.729188      -0.626664   \n",
       "PowerIndustry              0.970509   0.915554      -0.773638   \n",
       "Transport                  0.335422   0.241260       0.272907   \n",
       "TotalCO2percap            -0.810068  -0.782089       0.921454   \n",
       "\n",
       "                           Otherindustrialcombustion  PowerIndustry  \\\n",
       "Category                                    0.760397       0.970509   \n",
       "Buildings                                   0.729188       0.915554   \n",
       "Noncombustion                              -0.626664      -0.773638   \n",
       "Otherindustrialcombustion                   1.000000       0.819506   \n",
       "PowerIndustry                               0.819506       1.000000   \n",
       "Transport                                  -0.030182       0.168038   \n",
       "TotalCO2percap                             -0.600963      -0.867559   \n",
       "\n",
       "                           Transport  TotalCO2percap  \n",
       "Category                    0.335422       -0.810068  \n",
       "Buildings                   0.241260       -0.782089  \n",
       "Noncombustion               0.272907        0.921454  \n",
       "Otherindustrialcombustion  -0.030182       -0.600963  \n",
       "PowerIndustry               0.168038       -0.867559  \n",
       "Transport                   1.000000        0.144864  \n",
       "TotalCO2percap              0.144864        1.000000  "
      ]
     },
     "execution_count": 102,
     "metadata": {},
     "output_type": "execute_result"
    }
   ],
   "source": [
    "df.corr()"
   ]
  },
  {
   "cell_type": "code",
   "execution_count": 103,
   "id": "6c25024d",
   "metadata": {},
   "outputs": [
    {
     "data": {
      "image/png": "[encoded data removed]",
      "text/plain": [
       "<Figure size 432x288 with 2 Axes>"
      ]
     },
     "metadata": {
      "needs_background": "light"
     },
     "output_type": "display_data"
    }
   ],
   "source": [
    "sns.heatmap(df.corr());"
   ]
  },
  {
   "cell_type": "markdown",
   "id": "a2f47627",
   "metadata": {},
   "source": [
    "# Feature Engineering"
   ]
  },
  {
   "cell_type": "code",
   "execution_count": null,
   "id": "0e6b9353",
   "metadata": {},
   "outputs": [],
   "source": [
    "sns.set(style=\"whitegrid\")\n",
    "print(df['Total CO2/cap'].value_counts())\n",
    "fig = plt.figure(figsize = (10,6))\n",
    "sns.countplot('Total CO2/cap', data=df, palette='gist_heat')\n",
    "plt.show()"
   ]
  },
  {
   "cell_type": "code",
   "execution_count": null,
   "id": "379cedac",
   "metadata": {},
   "outputs": [],
   "source": [
    "\n",
    "X=df.drop([\"Total CO2/cap\"],axis=1)\n",
    "Y=df[\"Total CO2/cap\"]\n",
    "\n",
    "X_train,X_test,y_train,y_test=train_test_split(X,Y,test_size=0.2,random_state=0) \n",
    "\n",
    "#Feature Scaling\n",
    "scaler=StandardScaler()\n",
    "X_train=scaler.fit_transform(X_train)\n",
    "X_test=scaler.fit_transform(X_test)"
   ]
  },
  {
   "cell_type": "code",
   "execution_count": null,
   "id": "279c1af6",
   "metadata": {},
   "outputs": [],
   "source": [
    "predicted =[]\n",
    "for name,algo in models.items():\n",
    "    model=algo\n",
    "    model.fit(X_train,y_train)\n",
    "    predict = model.predict(X_test)\n",
    "    #cm=confusion_matrix(predict,y_test)\n",
    "  \n",
    "\n",
    "    acc = accuracy_score(y_test, predict)\n",
    "    predicted.append(acc)\n",
    "    print(name,acc)\n"
   ]
  }
 ],
 "metadata": {
  "kernelspec": {
   "display_name": "Python 3",
   "language": "python",
   "name": "python3"
  },
  "language_info": {
   "codemirror_mode": {
    "name": "ipython",
    "version": 3
   },
   "file_extension": ".py",
   "mimetype": "text/x-python",
   "name": "python",
   "nbconvert_exporter": "python",
   "pygments_lexer": "ipython3",
   "version": "3.8.8"
  }
 },
 "nbformat": 4,
 "nbformat_minor": 5
}
